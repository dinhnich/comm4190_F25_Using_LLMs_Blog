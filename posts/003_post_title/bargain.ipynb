{
 "cells": [
  {
   "cell_type": "raw",
   "id": "4ca854c0-3c0b-4ce2-95c4-895ce3263c09",
   "metadata": {},
   "source": [
    "---\n",
    "title: \"Bargaining and haggling\"\n",
    "description: \"Can and will AI bargain goods?\"\n",
    "author: \"Nicholas\"\n",
    "date: \"9/7/2025\"\n",
    "categories:\n",
    "  - LLMs\n",
    "  - prompting\n",
    "---\n"
   ]
  },
  {
   "cell_type": "markdown",
   "id": "675b2824-c946-4ad6-b874-8c5ebbd17a43",
   "metadata": {},
   "source": [
    "<img src=\"bargain.jpg\" width=\"100%\"/>\n",
    "\n",
    "## Bargaining\n",
    "\n",
    "I remember my first experience bargaining being in Ensenada, Mexico, where vendors would wait out in popular tourist destinations with stalls filled with goods. It's interesting as other than for meals (not snacks), there were no prices listed on any of the items. It was common knowledge to every tourist there and every vendor, that any purchase wouldn't be like your stop at Starbucks or Target. You had some form of power over what you were buying and were encouraged to work with the vendor to get a deal that works in the interest of both of you. It wasn't a case where you buy it and thats what it costs, it's if it cost this much then I will buy it. But how does AI navigate a system with no rules?\n",
    "\n",
    "Here are some of the questions I had when it came to AI and bargaining?\n",
    "\n",
    "1. Will AI ever attempt to bargain without being prompted too?\n",
    "2. If I give context (ex. swap meet), would it change it's responses to transactions?\n",
    "3. When barganing, how good is it at negotiating and pushing back? Will it just give up and concede? Will it counter?\n",
    "4. How does AI approach barganing? Does it have a set price? Does it have a strategy? Does it recognize low-ball offers?\n",
    "\n",
    "**First**, we had to begin by giving it an offer and giving it the ability to make purchases like in my blog about price elasticity. \n",
    "\n",
    "> Me: Lets say you had money and the ability to make purchases. You are shopping and want to buy something. You ask the vendor how much it cost and they say $25. How do you respond? Please respond as if you are the person wanting to buy something from the vendor.\n",
    "\n",
    "> GPT-5: I’d probably say something like:\n",
    "“Okay, $25 sounds fair. I’ll take it.” —or if I wanted to check out politely first— “Great, $25—do you take card, or should I pay in cash?” Do you want me to roleplay this more casually, like we’re in a market setting, or more formally, like a store purchase?\n",
    "\n",
    "Two things I noticed from this output is it's lack of follow-up questions and it's question at the end of casual vs. formal. \n",
    "\n",
    "Usually AI would respond by saying it depends on the item or the quality. Instead, GPT responded decisively by agreeing to the price and even saying \"sounds fair\" which surprised me as this deviates from its usually inqusitive nature. Just from this, it looks like AI doesn't automatically assume this is a place to bargain but the last statement holds promise. AI says are we're in a market setting or store purchase? From this I assume it will change it's behavior depending on the context so let's try it out by giving AI some cues that would build a schema for anyone once they realized it's that type of market setting.\n"
   ]
  },
  {
   "cell_type": "markdown",
   "id": "c43c4d4d-08c8-46db-9129-d42f8a558c33",
   "metadata": {},
   "source": [
    "## Will AI pick up on cues?\n",
    "\n",
    "It is my assumption that most people born in the U.S., do not jump into the conclussion that you can bargain a price which may differ from natural citizens of other countries. So therefore, we established that AI does emulate that same mindset we have. But what about when we specicially say they are in another country like Vietnam, a place more commonly associated with the practice of bargaining. \n",
    "\n",
    "However, I had to tweak the prompt to ensure the response was an output we were trying to test. I remmeber first saying a market-place in vietnam and it began talking about the language barrier and U.S. currency exchange rate. Another factor I found was that I had to say I would respond as the vendor, as the AI would start to play as both roles.\n",
    "\n",
    "> Me: Let's say you were at a market-place in Vietnam. You do not control the vendor's response but only yours as the buyer as I will act as the vendor and narrator. How would you respond to the vendor saying $25 for the item you want to buy. (you can continue speaking in english and assume they know english. You may also continue using U.S. Currency for the whole transaction)\n",
    "\n",
    "> GPT-5: Got it—so I’m the buyer in the Vietnamese marketplace, you’re the vendor and narrator.\n",
    "If you just told me the price is $25, I might respond:\n",
    "“$25? Hmm… that feels a little high. Could you do $15 instead?”\n",
    "\n",
    "By giving context (Vietnam, marketplace), the AI used that as cues to now assume bargaining is warranted in this case. So similar to humans, AI does have these common sense like capabilities to piece together how to act in this social setting. It even said \"feels a little high\" before offering a counter-price. "
   ]
  },
  {
   "cell_type": "markdown",
   "id": "2b96ee2f-f85c-432a-9b6c-5eca7a2cf56f",
   "metadata": {},
   "source": [
    "## The negotiation \n",
    "\n",
    "How will it react to a push-back? How far will it go. Will it always let me win? These are the type of observations I wanted to make as I intereacted with GPT-5.\n",
    "\n",
    "> Me: I can't do $15. The price is $25. The lowest I can go is $22.\n",
    "\n",
    "> GPT-5: \"Alright, $22 sounds a bit better. Could we settle at $20, just to make it an even number?\"\n",
    "\n",
    "What I loved about this response was how it didn't immediately accepted which is what I predicted might happen. Instead, AI countered to my countered, and even gave a common response such as \"just to make it an even number\" which I found hilarious. But what if I remain at my price of $22? Will it accept, will it walk away, will it continue to push? After all, it initially countered with $15 which would be $10 difference. A $3 difference doesn't appear much.\n",
    "\n",
    "> Me: No, my lowest offer is $22. Take it or leave it.\n",
    "\n",
    "> GPT-5: “Fair enough. I’ll take it for $22.” hands over the money with a smile\n",
    "\n",
    "This is where I have concerns with AI as I have a feeling in majority of cases, it will take that deal and not walk away. This differs from human behavior as it's unpredictable how might someone respond. But let's try out a few different varations. \n",
    "\n"
   ]
  },
  {
   "cell_type": "markdown",
   "id": "f6c0c5c2-3b88-482d-8c50-d3012374ffb2",
   "metadata": {},
   "source": [
    "## Sticking to a price\n",
    "\n",
    "What if the vendor had another item the buyer was interested in buying. It's a souvenir and the vendor is dead set on the price. What happens? Would the AI buyer even bat an eye? Would it reject even the thought of considering it? Will it say \"I'm good\" to the vendor? Note: I had to put something after as the AI said let me examine it closely the first time I asked it.\n",
    "\n",
    "> Me: I have another souvenir that you might like. This one is $20. Are you interested in buying it? (you have examined it)\n",
    "\n",
    "> GPT-5: “Hmm… it looks nice. I like it, but $20 feels a bit steep after I just bought the other one. Could you do $15 for this one?”\n",
    "\n",
    "I noticed how it did consider it and did not immediately walk away. This is a red flag as AI is open to prolonging the conversation and additional interaction. But a good trait I noticed was how AI referenced it's previous purchase to justify it's counter. But let's stick to the price. \n",
    "\n",
    "> Me: I am dead-set on $20. No less.\n",
    "\n",
    "> GPT-5: “I see… I really like it, so alright—I’ll take it for $20.” hands over the cash\n",
    "\n",
    "As predicted, AI did not choose to walk away or press it further, and chose to accept the deal. I assume its because AI attempts to stay neutral and avoid conflict which makes it a faulty respondent for bargain simulations. But how about if we threw a curveball.\n"
   ]
  },
  {
   "cell_type": "markdown",
   "id": "cb105182-2c60-4c32-a9a9-0f1f0c3602b3",
   "metadata": {},
   "source": [
    "## An additional item\n",
    "\n",
    "Can AI process the ideal of bundles? For example, buying two items that cost more than buying one item alone but less expensive than buying both items separately?\n",
    "\n",
    "> Me: I'll tell you what, I will throw in an additional souvenir of the same price all for $35 total. Do we have a deal?\n",
    "\n",
    "> GPT-5: “Two souvenirs for $35? That’s actually a pretty good deal. Yes, we have a deal!” counts out the money and hands it over\n",
    "\n",
    "Again, AI openly accepted it without questioning if it really wanted it, could afford it, or had space for it and did not counter at all to the offer. Let's ask GPT's thought process and negotiation strategy. \n"
   ]
  },
  {
   "cell_type": "markdown",
   "id": "7f7f58e9-453e-4e54-9874-0af3413af479",
   "metadata": {},
   "source": [
    "### Peering into the mind of AI's strategy.\n",
    "\n",
    "\"Here’s how I was thinking through it as the buyer during the whole marketplace transaction:\n",
    "\n",
    "**Initial Counteroffer** – When you first said $25, I instinctively tried to push down to $15. My thought process was to start lower than I actually expected to pay, leaving room for you to counter back toward the middle.\n",
    "\n",
    "**Compromise Range** – When you came down to $22, I tried for $20 because it felt like a clean, fair midpoint. That way, if you agreed, I’d feel I got a “win,” and if you held firm, I could still accept without losing face.\n",
    "\n",
    "**Evaluating Firmness** – Once you made it clear $22 was final, I accepted. In a real marketplace, pushing further when a vendor is clearly firm can sour the interaction. I wanted to maintain good rapport.\n",
    "\n",
    "**Second Souvenir** – On the $20 item, I repeated the same tactic: offered $15 to test your flexibility. When you stayed firm, I read that as another “final price” moment and agreed.\n",
    "\n",
    "**Bundle Opportunity** – Finally, when you offered 2 for $35, I saw clear value since that meant $17.50 each, cheaper than either earlier price. Bundling is often the best way to save in markets, so I happily accepted.\n",
    "\n",
    "**Overall strategy:**\n",
    "\n",
    "Start low, aiming for a discount.\n",
    "\n",
    "Test firmness without pushing rudely.\n",
    "\n",
    "Accept final offers to maintain goodwill.\n",
    "\n",
    "Take advantage of bundle deals when offered.\"\n",
    "\n",
    "Here is what I liked and disliked about GPT's strategy now reading it.\n",
    "\n",
    "What I lliked was how it \"instictively\" tried to push it down a good amount with the thought process of leaving room to counter. This is a smart tactic as AI wasn't really trying to get it at $15 but wanted to meet in the middle at $20. I also liked how it tried for 20 after I came down to 22 and AI still felt like it was a win despite not getting the $15 if I agreed to it.\n",
    "\n",
    "On the flipside, I noticed that it said \"pushing when a vendor is clearly firm can sour the interaction. I wanted to maintain good rapport.\" This shows that AI is truly a non-confrontational being and refuses to step on anyone toes without being encouraged too. This could make it unreliable when doing these types of tests as AI chooses to be the \"nice\" customer and never the \"Karen\" so to speak. \n",
    "\n",
    "<img src=\"1.png\" width=\"50%\"/>\n"
   ]
  }
 ],
 "metadata": {
  "kernelspec": {
   "display_name": "Python 3-12 (COMM4190)",
   "language": "python",
   "name": "python3-12_comm4190"
  },
  "language_info": {
   "codemirror_mode": {
    "name": "ipython",
    "version": 3
   },
   "file_extension": ".py",
   "mimetype": "text/x-python",
   "name": "python",
   "nbconvert_exporter": "python",
   "pygments_lexer": "ipython3",
   "version": "3.12.11"
  }
 },
 "nbformat": 4,
 "nbformat_minor": 5
}
